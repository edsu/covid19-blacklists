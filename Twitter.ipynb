{
 "cells": [
  {
   "cell_type": "markdown",
   "metadata": {},
   "source": [
    "# Twitter\n",
    "\n",
    "Is it possible to use the DomainTools list to look for tweets that are potentially spreading misinformation? Fortunately, Twitter's Search does allow for searching by a domain name, try [www.cdc.gov](https://twitter.com/search?q=www.cdc.gov&f=live) for example. However the Search API only returns results for the last week. Given this caveat we can still take a look."
   ]
  },
  {
   "cell_type": "markdown",
   "metadata": {},
   "source": [
    "## DomainTools\n",
    "\n",
    "First we need to load the DoaminTools data:"
   ]
  },
  {
   "cell_type": "code",
   "execution_count": 35,
   "metadata": {},
   "outputs": [
    {
     "data": {
      "text/html": [
       "<div>\n",
       "<style scoped>\n",
       "    .dataframe tbody tr th:only-of-type {\n",
       "        vertical-align: middle;\n",
       "    }\n",
       "\n",
       "    .dataframe tbody tr th {\n",
       "        vertical-align: top;\n",
       "    }\n",
       "\n",
       "    .dataframe thead th {\n",
       "        text-align: right;\n",
       "    }\n",
       "</style>\n",
       "<table border=\"1\" class=\"dataframe\">\n",
       "  <thead>\n",
       "    <tr style=\"text-align: right;\">\n",
       "      <th></th>\n",
       "      <th>domain</th>\n",
       "      <th>created</th>\n",
       "      <th>risk</th>\n",
       "    </tr>\n",
       "  </thead>\n",
       "  <tbody>\n",
       "    <tr>\n",
       "      <th>0</th>\n",
       "      <td>covid19fashions.com</td>\n",
       "      <td>2020-04-04</td>\n",
       "      <td>99</td>\n",
       "    </tr>\n",
       "    <tr>\n",
       "      <th>1</th>\n",
       "      <td>coronaviruscardgame.com</td>\n",
       "      <td>2020-04-04</td>\n",
       "      <td>99</td>\n",
       "    </tr>\n",
       "    <tr>\n",
       "      <th>2</th>\n",
       "      <td>covidonline.me</td>\n",
       "      <td>2020-04-04</td>\n",
       "      <td>99</td>\n",
       "    </tr>\n",
       "    <tr>\n",
       "      <th>3</th>\n",
       "      <td>covid-19contained.com</td>\n",
       "      <td>2020-04-04</td>\n",
       "      <td>99</td>\n",
       "    </tr>\n",
       "    <tr>\n",
       "      <th>4</th>\n",
       "      <td>covidcrime-chicago.com</td>\n",
       "      <td>2020-04-04</td>\n",
       "      <td>99</td>\n",
       "    </tr>\n",
       "    <tr>\n",
       "      <th>...</th>\n",
       "      <td>...</td>\n",
       "      <td>...</td>\n",
       "      <td>...</td>\n",
       "    </tr>\n",
       "    <tr>\n",
       "      <th>116706</th>\n",
       "      <td>wuhanbj.cn</td>\n",
       "      <td>2020-01-23</td>\n",
       "      <td>70</td>\n",
       "    </tr>\n",
       "    <tr>\n",
       "      <th>116707</th>\n",
       "      <td>wuhanpneumonia.org</td>\n",
       "      <td>2020-01-19</td>\n",
       "      <td>70</td>\n",
       "    </tr>\n",
       "    <tr>\n",
       "      <th>116708</th>\n",
       "      <td>wuhanfengtai.com</td>\n",
       "      <td>2020-01-13</td>\n",
       "      <td>70</td>\n",
       "    </tr>\n",
       "    <tr>\n",
       "      <th>116709</th>\n",
       "      <td>ecovida5dmalaga.com</td>\n",
       "      <td>2020-01-07</td>\n",
       "      <td>70</td>\n",
       "    </tr>\n",
       "    <tr>\n",
       "      <th>116710</th>\n",
       "      <td>coronationbitter.co.uk</td>\n",
       "      <td>2020-01-02</td>\n",
       "      <td>70</td>\n",
       "    </tr>\n",
       "  </tbody>\n",
       "</table>\n",
       "<p>116711 rows × 3 columns</p>\n",
       "</div>"
      ],
      "text/plain": [
       "                         domain    created  risk\n",
       "0           covid19fashions.com 2020-04-04    99\n",
       "1       coronaviruscardgame.com 2020-04-04    99\n",
       "2                covidonline.me 2020-04-04    99\n",
       "3         covid-19contained.com 2020-04-04    99\n",
       "4        covidcrime-chicago.com 2020-04-04    99\n",
       "...                         ...        ...   ...\n",
       "116706               wuhanbj.cn 2020-01-23    70\n",
       "116707       wuhanpneumonia.org 2020-01-19    70\n",
       "116708         wuhanfengtai.com 2020-01-13    70\n",
       "116709      ecovida5dmalaga.com 2020-01-07    70\n",
       "116710   coronationbitter.co.uk 2020-01-02    70\n",
       "\n",
       "[116711 rows x 3 columns]"
      ]
     },
     "execution_count": 35,
     "metadata": {},
     "output_type": "execute_result"
    }
   ],
   "source": [
    "import pandas\n",
    "\n",
    "df = pandas.read_csv('data/domaintools/2020-04-05.csv.gz',\n",
    "    parse_dates=['created'], \n",
    "    sep='\\t',\n",
    "    names=['domain', 'created', 'risk']\n",
    ")\n",
    "df"
   ]
  },
  {
   "cell_type": "markdown",
   "metadata": {},
   "source": [
    "## Collect Tweets\n",
    "\n",
    "[twarc](https://github.com/docnow/twarc) is a useful Python library for collecting tweet JSON data while observing their API rate lmits. We have 116,710 domains to search for, so being able to observe the rate limits is important.\n",
    "\n",
    "[Twitter's Rate Limits](https://developer.twitter.com/en/docs/basics/rate-limits) show that the search API has a limit of 180 requests / 15 minutes for User authentication and 450 requests/ 15 minutes for App authentication. The difference between these is a bit complicated to go into here, but basically User auth is when you want to do something on behalf of a user (say send a tweet), and App auth is when you can do something as a software application. We aren't doing these searches *for* a particular user, and the App authentication will let us performa a lot more queries.\n",
    "\n",
    "But how long will it take?"
   ]
  },
  {
   "cell_type": "code",
   "execution_count": 36,
   "metadata": {},
   "outputs": [
    {
     "data": {
      "text/plain": [
       "64.83944444444444"
      ]
     },
     "execution_count": 36,
     "metadata": {},
     "output_type": "execute_result"
    }
   ],
   "source": [
    "reqs_per_hour = 450 * 4\n",
    "116711 / reqs_per_hour"
   ]
  },
  {
   "cell_type": "markdown",
   "metadata": {},
   "source": [
    "It will take 64 hours! How about if we only look at the domains with the highest risk score?"
   ]
  },
  {
   "cell_type": "code",
   "execution_count": 42,
   "metadata": {},
   "outputs": [
    {
     "data": {
      "text/plain": [
       "47.946666666666665"
      ]
     },
     "execution_count": 42,
     "metadata": {},
     "output_type": "execute_result"
    }
   ],
   "source": [
    "len(df[df.risk >= 99.0]) / reqs_per_hour"
   ]
  },
  {
   "cell_type": "markdown",
   "metadata": {},
   "source": [
    "Ok, that's still a long time to wait. Since Twitter's API only lets us search tweets for the past 7 days maybe we could get an interesting view by looking for domains that were created during that time? We also might stand a better chance of seeing them before they are deleted by Twitter.\n",
    "\n",
    "So how long would will this take?"
   ]
  },
  {
   "cell_type": "code",
   "execution_count": 55,
   "metadata": {},
   "outputs": [
    {
     "data": {
      "text/plain": [
       "4.051111111111111"
      ]
     },
     "execution_count": 55,
     "metadata": {},
     "output_type": "execute_result"
    }
   ],
   "source": [
    "import datetime\n",
    "\n",
    "a_week_ago = datetime.datetime.now() - datetime.timedelta(days=7)\n",
    "df['created']\n",
    "\n",
    "len(df[(df.risk >= 99.0) & (df.created >= a_week_ago)]) / reqs_per_hour"
   ]
  },
  {
   "cell_type": "markdown",
   "metadata": {},
   "source": [
    "4 hours seems manageable! Lets start by looking at those."
   ]
  },
  {
   "cell_type": "code",
   "execution_count": 57,
   "metadata": {},
   "outputs": [
    {
     "data": {
      "text/html": [
       "<div>\n",
       "<style scoped>\n",
       "    .dataframe tbody tr th:only-of-type {\n",
       "        vertical-align: middle;\n",
       "    }\n",
       "\n",
       "    .dataframe tbody tr th {\n",
       "        vertical-align: top;\n",
       "    }\n",
       "\n",
       "    .dataframe thead th {\n",
       "        text-align: right;\n",
       "    }\n",
       "</style>\n",
       "<table border=\"1\" class=\"dataframe\">\n",
       "  <thead>\n",
       "    <tr style=\"text-align: right;\">\n",
       "      <th></th>\n",
       "      <th>domain</th>\n",
       "      <th>created</th>\n",
       "      <th>risk</th>\n",
       "    </tr>\n",
       "  </thead>\n",
       "  <tbody>\n",
       "    <tr>\n",
       "      <th>0</th>\n",
       "      <td>covid19fashions.com</td>\n",
       "      <td>2020-04-04</td>\n",
       "      <td>99</td>\n",
       "    </tr>\n",
       "    <tr>\n",
       "      <th>1</th>\n",
       "      <td>coronaviruscardgame.com</td>\n",
       "      <td>2020-04-04</td>\n",
       "      <td>99</td>\n",
       "    </tr>\n",
       "    <tr>\n",
       "      <th>2</th>\n",
       "      <td>covidonline.me</td>\n",
       "      <td>2020-04-04</td>\n",
       "      <td>99</td>\n",
       "    </tr>\n",
       "    <tr>\n",
       "      <th>3</th>\n",
       "      <td>covid-19contained.com</td>\n",
       "      <td>2020-04-04</td>\n",
       "      <td>99</td>\n",
       "    </tr>\n",
       "    <tr>\n",
       "      <th>4</th>\n",
       "      <td>covidcrime-chicago.com</td>\n",
       "      <td>2020-04-04</td>\n",
       "      <td>99</td>\n",
       "    </tr>\n",
       "    <tr>\n",
       "      <th>...</th>\n",
       "      <td>...</td>\n",
       "      <td>...</td>\n",
       "      <td>...</td>\n",
       "    </tr>\n",
       "    <tr>\n",
       "      <th>7287</th>\n",
       "      <td>covid19costume.com</td>\n",
       "      <td>2020-03-31</td>\n",
       "      <td>99</td>\n",
       "    </tr>\n",
       "    <tr>\n",
       "      <th>7288</th>\n",
       "      <td>covid19testinglocations.co.nz</td>\n",
       "      <td>2020-03-31</td>\n",
       "      <td>99</td>\n",
       "    </tr>\n",
       "    <tr>\n",
       "      <th>7289</th>\n",
       "      <td>covidegypt.cf</td>\n",
       "      <td>2020-03-31</td>\n",
       "      <td>99</td>\n",
       "    </tr>\n",
       "    <tr>\n",
       "      <th>7290</th>\n",
       "      <td>goawaycovid19.org</td>\n",
       "      <td>2020-03-31</td>\n",
       "      <td>99</td>\n",
       "    </tr>\n",
       "    <tr>\n",
       "      <th>7291</th>\n",
       "      <td>mijn-corona.nl</td>\n",
       "      <td>2020-03-31</td>\n",
       "      <td>99</td>\n",
       "    </tr>\n",
       "  </tbody>\n",
       "</table>\n",
       "<p>7292 rows × 3 columns</p>\n",
       "</div>"
      ],
      "text/plain": [
       "                             domain    created  risk\n",
       "0               covid19fashions.com 2020-04-04    99\n",
       "1           coronaviruscardgame.com 2020-04-04    99\n",
       "2                    covidonline.me 2020-04-04    99\n",
       "3             covid-19contained.com 2020-04-04    99\n",
       "4            covidcrime-chicago.com 2020-04-04    99\n",
       "...                             ...        ...   ...\n",
       "7287             covid19costume.com 2020-03-31    99\n",
       "7288  covid19testinglocations.co.nz 2020-03-31    99\n",
       "7289                  covidegypt.cf 2020-03-31    99\n",
       "7290              goawaycovid19.org 2020-03-31    99\n",
       "7291                 mijn-corona.nl 2020-03-31    99\n",
       "\n",
       "[7292 rows x 3 columns]"
      ]
     },
     "execution_count": 57,
     "metadata": {},
     "output_type": "execute_result"
    }
   ],
   "source": [
    "latest_domains = df[(df.risk >= 99.0) & (df.created >= a_week_ago)]\n",
    "latest_domains"
   ]
  },
  {
   "cell_type": "code",
   "execution_count": 58,
   "metadata": {},
   "outputs": [],
   "source": [
    "import twarc"
   ]
  },
  {
   "cell_type": "markdown",
   "metadata": {},
   "source": [
    "You can skip this next cell if you've used twarc before. Otherwise you need to run it to tell twarc your API keys."
   ]
  },
  {
   "cell_type": "code",
   "execution_count": null,
   "metadata": {},
   "outputs": [],
   "source": [
    "t = twarc.Twarc(validate_keys=False)\n",
    "t.configure()"
   ]
  },
  {
   "cell_type": "markdown",
   "metadata": {},
   "source": [
    "If you didn't run the cell above you will now need to create your twarc client."
   ]
  },
  {
   "cell_type": "code",
   "execution_count": 59,
   "metadata": {},
   "outputs": [],
   "source": [
    "t = twarc.Twarc(app_auth=True)"
   ]
  },
  {
   "cell_type": "markdown",
   "metadata": {},
   "source": [
    "Now we can search for each donain and write the full tweets as line oriented JSON, where each line is a tweet, serialized as a JSON object. As we go we'll keep track of domains that had some tweet matches."
   ]
  },
  {
   "cell_type": "code",
   "execution_count": null,
   "metadata": {},
   "outputs": [
    {
     "name": "stderr",
     "output_type": "stream",
     "text": [
      "WARNING:twarc:rate limit exceeded: sleeping 556.6614820957184 secs\n"
     ]
    }
   ],
   "source": [
    "import gzip\n",
    "import json\n",
    "\n",
    "from collections import Counter\n",
    "\n",
    "# write the tweets as gzipped json data\n",
    "out = gzip.open('data/twitter/week-{}.jsonl'.format(a_week_ago.strftime('%Y-%m-%d')), 'wb')\n",
    "\n",
    "counter = Counter()                \n",
    "for domain in latest_domains.domain:\n",
    "    for tweet in t.search(row.domain):\n",
    "        json.dump(tweet, out)\n",
    "        counter[domain] += 1\n",
    "    if counter[domain] > 0:\n",
    "        sys.stdout.write('{} [{}]'.format(row.domain, counter[domain]))\n"
   ]
  },
  {
   "cell_type": "markdown",
   "metadata": {},
   "source": [
    "## Analyze\n",
    "\n",
    "Ok, that took some time. "
   ]
  },
  {
   "cell_type": "code",
   "execution_count": null,
   "metadata": {},
   "outputs": [],
   "source": []
  }
 ],
 "metadata": {
  "kernelspec": {
   "display_name": "Python 3",
   "language": "python",
   "name": "python3"
  },
  "language_info": {
   "codemirror_mode": {
    "name": "ipython",
    "version": 3
   },
   "file_extension": ".py",
   "mimetype": "text/x-python",
   "name": "python",
   "nbconvert_exporter": "python",
   "pygments_lexer": "ipython3",
   "version": "3.7.6"
  }
 },
 "nbformat": 4,
 "nbformat_minor": 4
}
