{
 "cells": [
  {
   "cell_type": "markdown",
   "metadata": {},
   "source": [
    "# Twitter\n",
    "\n",
    "Is it possible to use the DomainTools list to look for tweets that are potentially spreading misinformation? Fortunately, Twitter's Search does allow for searching by a domain name, try [www.cdc.gov](https://twitter.com/search?q=www.cdc.gov&f=live) for example. However the Search API only returns results for the last week. Given this caveat we can still take a look."
   ]
  },
  {
   "cell_type": "markdown",
   "metadata": {},
   "source": [
    "## DomainTools\n",
    "\n",
    "First we need to load the DoaminTools data:"
   ]
  },
  {
   "cell_type": "code",
   "execution_count": 107,
   "metadata": {},
   "outputs": [
    {
     "data": {
      "text/html": [
       "<div>\n",
       "<style scoped>\n",
       "    .dataframe tbody tr th:only-of-type {\n",
       "        vertical-align: middle;\n",
       "    }\n",
       "\n",
       "    .dataframe tbody tr th {\n",
       "        vertical-align: top;\n",
       "    }\n",
       "\n",
       "    .dataframe thead th {\n",
       "        text-align: right;\n",
       "    }\n",
       "</style>\n",
       "<table border=\"1\" class=\"dataframe\">\n",
       "  <thead>\n",
       "    <tr style=\"text-align: right;\">\n",
       "      <th></th>\n",
       "      <th>domain</th>\n",
       "      <th>created</th>\n",
       "      <th>risk</th>\n",
       "    </tr>\n",
       "  </thead>\n",
       "  <tbody>\n",
       "    <tr>\n",
       "      <th>0</th>\n",
       "      <td>covid19fashions.com</td>\n",
       "      <td>2020-04-04</td>\n",
       "      <td>99</td>\n",
       "    </tr>\n",
       "    <tr>\n",
       "      <th>1</th>\n",
       "      <td>coronaviruscardgame.com</td>\n",
       "      <td>2020-04-04</td>\n",
       "      <td>99</td>\n",
       "    </tr>\n",
       "    <tr>\n",
       "      <th>2</th>\n",
       "      <td>covidonline.me</td>\n",
       "      <td>2020-04-04</td>\n",
       "      <td>99</td>\n",
       "    </tr>\n",
       "    <tr>\n",
       "      <th>3</th>\n",
       "      <td>covid-19contained.com</td>\n",
       "      <td>2020-04-04</td>\n",
       "      <td>99</td>\n",
       "    </tr>\n",
       "    <tr>\n",
       "      <th>4</th>\n",
       "      <td>covidcrime-chicago.com</td>\n",
       "      <td>2020-04-04</td>\n",
       "      <td>99</td>\n",
       "    </tr>\n",
       "    <tr>\n",
       "      <th>...</th>\n",
       "      <td>...</td>\n",
       "      <td>...</td>\n",
       "      <td>...</td>\n",
       "    </tr>\n",
       "    <tr>\n",
       "      <th>116706</th>\n",
       "      <td>wuhanbj.cn</td>\n",
       "      <td>2020-01-23</td>\n",
       "      <td>70</td>\n",
       "    </tr>\n",
       "    <tr>\n",
       "      <th>116707</th>\n",
       "      <td>wuhanpneumonia.org</td>\n",
       "      <td>2020-01-19</td>\n",
       "      <td>70</td>\n",
       "    </tr>\n",
       "    <tr>\n",
       "      <th>116708</th>\n",
       "      <td>wuhanfengtai.com</td>\n",
       "      <td>2020-01-13</td>\n",
       "      <td>70</td>\n",
       "    </tr>\n",
       "    <tr>\n",
       "      <th>116709</th>\n",
       "      <td>ecovida5dmalaga.com</td>\n",
       "      <td>2020-01-07</td>\n",
       "      <td>70</td>\n",
       "    </tr>\n",
       "    <tr>\n",
       "      <th>116710</th>\n",
       "      <td>coronationbitter.co.uk</td>\n",
       "      <td>2020-01-02</td>\n",
       "      <td>70</td>\n",
       "    </tr>\n",
       "  </tbody>\n",
       "</table>\n",
       "<p>116711 rows × 3 columns</p>\n",
       "</div>"
      ],
      "text/plain": [
       "                         domain    created  risk\n",
       "0           covid19fashions.com 2020-04-04    99\n",
       "1       coronaviruscardgame.com 2020-04-04    99\n",
       "2                covidonline.me 2020-04-04    99\n",
       "3         covid-19contained.com 2020-04-04    99\n",
       "4        covidcrime-chicago.com 2020-04-04    99\n",
       "...                         ...        ...   ...\n",
       "116706               wuhanbj.cn 2020-01-23    70\n",
       "116707       wuhanpneumonia.org 2020-01-19    70\n",
       "116708         wuhanfengtai.com 2020-01-13    70\n",
       "116709      ecovida5dmalaga.com 2020-01-07    70\n",
       "116710   coronationbitter.co.uk 2020-01-02    70\n",
       "\n",
       "[116711 rows x 3 columns]"
      ]
     },
     "execution_count": 107,
     "metadata": {},
     "output_type": "execute_result"
    }
   ],
   "source": [
    "import pandas\n",
    "\n",
    "df = pandas.read_csv('data/domaintools/2020-04-05.csv.gz',\n",
    "    parse_dates=['created'], \n",
    "    sep='\\t',\n",
    "    names=['domain', 'created', 'risk']\n",
    ")\n",
    "df"
   ]
  },
  {
   "cell_type": "markdown",
   "metadata": {},
   "source": [
    "## Collect Tweets\n",
    "\n",
    "[twarc](https://github.com/docnow/twarc) is a useful Python library for collecting tweet JSON data while observing their API rate lmits. We have 116,710 domains to search for, so being able to observe the rate limits is important.\n",
    "\n",
    "[Twitter's Rate Limits](https://developer.twitter.com/en/docs/basics/rate-limits) show that the search API has a limit of 180 requests / 15 minutes for User authentication and 450 requests/ 15 minutes for App authentication. The difference between these is a bit complicated to go into here, but basically User auth is when you want to do something on behalf of a user (say send a tweet), and App auth is when you can do something as a software application. We aren't doing these searches *for* a particular user, and the App authentication will let us performa a lot more queries.\n",
    "\n",
    "But how long will it take?"
   ]
  },
  {
   "cell_type": "code",
   "execution_count": 36,
   "metadata": {},
   "outputs": [
    {
     "data": {
      "text/plain": [
       "64.83944444444444"
      ]
     },
     "execution_count": 36,
     "metadata": {},
     "output_type": "execute_result"
    }
   ],
   "source": [
    "reqs_per_hour = 450 * 4\n",
    "116711 / reqs_per_hour"
   ]
  },
  {
   "cell_type": "markdown",
   "metadata": {},
   "source": [
    "It will take 64 hours! How about if we only look at the domains with the highest risk score?"
   ]
  },
  {
   "cell_type": "code",
   "execution_count": 42,
   "metadata": {},
   "outputs": [
    {
     "data": {
      "text/plain": [
       "47.946666666666665"
      ]
     },
     "execution_count": 42,
     "metadata": {},
     "output_type": "execute_result"
    }
   ],
   "source": [
    "len(df[df.risk >= 99.0]) / reqs_per_hour"
   ]
  },
  {
   "cell_type": "markdown",
   "metadata": {},
   "source": [
    "Ok, that's still a long time to wait. Since Twitter's API only lets us search tweets for the past 7 days maybe we could get an interesting view by looking for domains that were created during that time? We also might stand a better chance of seeing them before they are deleted by Twitter.\n",
    "\n",
    "So how long would will this take?"
   ]
  },
  {
   "cell_type": "code",
   "execution_count": 55,
   "metadata": {},
   "outputs": [
    {
     "data": {
      "text/plain": [
       "4.051111111111111"
      ]
     },
     "execution_count": 55,
     "metadata": {},
     "output_type": "execute_result"
    }
   ],
   "source": [
    "import datetime\n",
    "\n",
    "a_week_ago = datetime.datetime.now() - datetime.timedelta(days=7)\n",
    "df['created']\n",
    "\n",
    "len(df[(df.risk >= 99.0) & (df.created >= a_week_ago)]) / reqs_per_hour"
   ]
  },
  {
   "cell_type": "markdown",
   "metadata": {},
   "source": [
    "4 hours seems manageable! Lets start by looking at those."
   ]
  },
  {
   "cell_type": "code",
   "execution_count": 57,
   "metadata": {},
   "outputs": [
    {
     "data": {
      "text/html": [
       "<div>\n",
       "<style scoped>\n",
       "    .dataframe tbody tr th:only-of-type {\n",
       "        vertical-align: middle;\n",
       "    }\n",
       "\n",
       "    .dataframe tbody tr th {\n",
       "        vertical-align: top;\n",
       "    }\n",
       "\n",
       "    .dataframe thead th {\n",
       "        text-align: right;\n",
       "    }\n",
       "</style>\n",
       "<table border=\"1\" class=\"dataframe\">\n",
       "  <thead>\n",
       "    <tr style=\"text-align: right;\">\n",
       "      <th></th>\n",
       "      <th>domain</th>\n",
       "      <th>created</th>\n",
       "      <th>risk</th>\n",
       "    </tr>\n",
       "  </thead>\n",
       "  <tbody>\n",
       "    <tr>\n",
       "      <th>0</th>\n",
       "      <td>covid19fashions.com</td>\n",
       "      <td>2020-04-04</td>\n",
       "      <td>99</td>\n",
       "    </tr>\n",
       "    <tr>\n",
       "      <th>1</th>\n",
       "      <td>coronaviruscardgame.com</td>\n",
       "      <td>2020-04-04</td>\n",
       "      <td>99</td>\n",
       "    </tr>\n",
       "    <tr>\n",
       "      <th>2</th>\n",
       "      <td>covidonline.me</td>\n",
       "      <td>2020-04-04</td>\n",
       "      <td>99</td>\n",
       "    </tr>\n",
       "    <tr>\n",
       "      <th>3</th>\n",
       "      <td>covid-19contained.com</td>\n",
       "      <td>2020-04-04</td>\n",
       "      <td>99</td>\n",
       "    </tr>\n",
       "    <tr>\n",
       "      <th>4</th>\n",
       "      <td>covidcrime-chicago.com</td>\n",
       "      <td>2020-04-04</td>\n",
       "      <td>99</td>\n",
       "    </tr>\n",
       "    <tr>\n",
       "      <th>...</th>\n",
       "      <td>...</td>\n",
       "      <td>...</td>\n",
       "      <td>...</td>\n",
       "    </tr>\n",
       "    <tr>\n",
       "      <th>7287</th>\n",
       "      <td>covid19costume.com</td>\n",
       "      <td>2020-03-31</td>\n",
       "      <td>99</td>\n",
       "    </tr>\n",
       "    <tr>\n",
       "      <th>7288</th>\n",
       "      <td>covid19testinglocations.co.nz</td>\n",
       "      <td>2020-03-31</td>\n",
       "      <td>99</td>\n",
       "    </tr>\n",
       "    <tr>\n",
       "      <th>7289</th>\n",
       "      <td>covidegypt.cf</td>\n",
       "      <td>2020-03-31</td>\n",
       "      <td>99</td>\n",
       "    </tr>\n",
       "    <tr>\n",
       "      <th>7290</th>\n",
       "      <td>goawaycovid19.org</td>\n",
       "      <td>2020-03-31</td>\n",
       "      <td>99</td>\n",
       "    </tr>\n",
       "    <tr>\n",
       "      <th>7291</th>\n",
       "      <td>mijn-corona.nl</td>\n",
       "      <td>2020-03-31</td>\n",
       "      <td>99</td>\n",
       "    </tr>\n",
       "  </tbody>\n",
       "</table>\n",
       "<p>7292 rows × 3 columns</p>\n",
       "</div>"
      ],
      "text/plain": [
       "                             domain    created  risk\n",
       "0               covid19fashions.com 2020-04-04    99\n",
       "1           coronaviruscardgame.com 2020-04-04    99\n",
       "2                    covidonline.me 2020-04-04    99\n",
       "3             covid-19contained.com 2020-04-04    99\n",
       "4            covidcrime-chicago.com 2020-04-04    99\n",
       "...                             ...        ...   ...\n",
       "7287             covid19costume.com 2020-03-31    99\n",
       "7288  covid19testinglocations.co.nz 2020-03-31    99\n",
       "7289                  covidegypt.cf 2020-03-31    99\n",
       "7290              goawaycovid19.org 2020-03-31    99\n",
       "7291                 mijn-corona.nl 2020-03-31    99\n",
       "\n",
       "[7292 rows x 3 columns]"
      ]
     },
     "execution_count": 57,
     "metadata": {},
     "output_type": "execute_result"
    }
   ],
   "source": [
    "latest_domains = df[(df.risk >= 99.0) & (df.created >= a_week_ago)]\n",
    "latest_domains"
   ]
  },
  {
   "cell_type": "code",
   "execution_count": 58,
   "metadata": {},
   "outputs": [],
   "source": [
    "import twarc"
   ]
  },
  {
   "cell_type": "markdown",
   "metadata": {},
   "source": [
    "You can skip this next cell if you've used twarc before. Otherwise you need to run it to tell twarc your API keys."
   ]
  },
  {
   "cell_type": "code",
   "execution_count": null,
   "metadata": {},
   "outputs": [],
   "source": [
    "t = twarc.Twarc(validate_keys=False)\n",
    "t.configure()"
   ]
  },
  {
   "cell_type": "markdown",
   "metadata": {},
   "source": [
    "If you didn't run the cell above you will now need to create your twarc client."
   ]
  },
  {
   "cell_type": "code",
   "execution_count": 59,
   "metadata": {},
   "outputs": [],
   "source": [
    "t = twarc.Twarc(app_auth=True)"
   ]
  },
  {
   "cell_type": "markdown",
   "metadata": {},
   "source": [
    "Now we can search for each donain and write the full tweets as line oriented JSON, where each line is a tweet, serialized as a JSON object. As we go we'll keep track of domains that had some tweet matches.\n",
    "\n",
    "Note, we use the `url:` search operator that is documented in [this extensive but unofficial guide](https://github.com/igorbrigadir/twitter-advanced-search) to Twitter's advanced search. But just to be on the safe side we will also look for a hostname match in each tweet's URLs. One accommodation that is made is allowing for a *www* subdomain to have been used. "
   ]
  },
  {
   "cell_type": "code",
   "execution_count": 105,
   "metadata": {},
   "outputs": [
    {
     "name": "stdout",
     "output_type": "stream",
     "text": [
      "covidcrime-chicago.com [6]\n",
      "faeccadizcovid19.es [1]\n",
      "covid19speed.com [7]\n"
     ]
    },
    {
     "name": "stderr",
     "output_type": "stream",
     "text": [
      "WARNING:twarc:rate limit exceeded: sleeping 697.8978939056396 secs\n"
     ]
    },
    {
     "name": "stdout",
     "output_type": "stream",
     "text": [
      "wrenthamcovid19.com [5]\n",
      "coronavirus-inform.info [1]\n",
      "covid19drc.com [26]\n",
      "coronavirustracker2020.com [1]\n"
     ]
    },
    {
     "name": "stderr",
     "output_type": "stream",
     "text": [
      "WARNING:twarc:rate limit exceeded: sleeping 828.0073659420013 secs\n"
     ]
    },
    {
     "name": "stdout",
     "output_type": "stream",
     "text": [
      "coronafeirws.cymru [10]\n",
      "coronavirusstats.eu [2]\n",
      "covidaz.help [20]\n",
      "covidfocus.org [7]\n",
      "corona-rikon.com [9]\n",
      "coronavirusespana.app [1]\n",
      "covid19sikkim.org [5]\n"
     ]
    },
    {
     "name": "stderr",
     "output_type": "stream",
     "text": [
      "WARNING:twarc:rate limit exceeded: sleeping 864.4837110042572 secs\n"
     ]
    },
    {
     "name": "stdout",
     "output_type": "stream",
     "text": [
      "coronavirus-per-country.com [1]\n",
      "does5gcausecovid19.com [2]\n",
      "healthequitycovid19.org [2]\n",
      "freakycoronamerch.de [1]\n",
      "latestcovidnews.com [1]\n",
      "coughagainstcovid.org [4]\n",
      "oguncovid19.org [4]\n",
      "coronavirus-website.ru [45]\n",
      "heroescovid19.site [5]\n",
      "covid-calc.org [9]\n"
     ]
    },
    {
     "name": "stderr",
     "output_type": "stream",
     "text": [
      "WARNING:twarc:rate limit exceeded: sleeping 873.0211720466614 secs\n"
     ]
    },
    {
     "name": "stdout",
     "output_type": "stream",
     "text": [
      "covid19-now.info [2]\n",
      "meditateagainstcovid19.org [12]\n",
      "covid19assam.info [5]\n",
      "coronamw.com [5]\n",
      "coronavirusrevolution.com [1]\n",
      "covid19actioncrm.com [2]\n"
     ]
    },
    {
     "name": "stderr",
     "output_type": "stream",
     "text": [
      "WARNING:twarc:rate limit exceeded: sleeping 874.67014503479 secs\n"
     ]
    },
    {
     "name": "stdout",
     "output_type": "stream",
     "text": [
      "coronadoiscalling.com [1]\n",
      "corona-sogo.info [2]\n",
      "covid19rehber.com [39]\n",
      "finedelcovid19.com [1]\n",
      "covid19sci.org [22]\n",
      "coronavirusindia.tech [1]\n",
      "covidchugchallenge.com [1]\n",
      "covid19-interventions.com [2]\n",
      "coronavirusaccessories.com [10]\n",
      "coronavirusthegame.com [2]\n",
      "covid19-times.com [3]\n"
     ]
    },
    {
     "name": "stderr",
     "output_type": "stream",
     "text": [
      "WARNING:twarc:rate limit exceeded: sleeping 868.6885960102081 secs\n"
     ]
    },
    {
     "name": "stdout",
     "output_type": "stream",
     "text": [
      "covid-near-me.com [4]\n",
      "covid19intervinents.cat [1]\n",
      "covidtracker.world [14]\n",
      "coronaviruschildrensbook.com [2]\n",
      "covid19masr.com [1]\n",
      "covid19rois.com [1]\n",
      "covidnigeria.com.ng [2]\n",
      "covidsafetynetwork.com [2]\n",
      "covid-coronavirus.fr [2]\n",
      "coronatasks.com [1]\n",
      "covid19insweden.com [5]\n"
     ]
    },
    {
     "name": "stderr",
     "output_type": "stream",
     "text": [
      "WARNING:twarc:rate limit exceeded: sleeping 878.8651378154755 secs\n"
     ]
    },
    {
     "name": "stdout",
     "output_type": "stream",
     "text": [
      "coronavirusconspiracy.xyz [1]\n",
      "newswithoutcoronavirus.com [5]\n",
      "actions-fondations-covid19.org [3]\n",
      "coronavirus-covid19.app [1]\n",
      "covidfactcheck.in [1]\n",
      "ugcovid19.org [3]\n",
      "coronavirushelp.com.ng [1]\n"
     ]
    },
    {
     "name": "stderr",
     "output_type": "stream",
     "text": [
      "WARNING:twarc:rate limit exceeded: sleeping 845.3192839622498 secs\n",
      "ERROR:twarc:caught connection error ('Connection aborted.', ConnectionResetError(54, 'Connection reset by peer')) on 1 try\n"
     ]
    },
    {
     "name": "stdout",
     "output_type": "stream",
     "text": [
      "covid-19-radar.com [1]\n",
      "covid19newshub.com [3]\n",
      "covid19switchboard.org [5]\n",
      "coronavirusdiary.site [2]\n",
      "covid19rehberi.com [28]\n",
      "zamcovid19.tech [2]\n"
     ]
    },
    {
     "name": "stderr",
     "output_type": "stream",
     "text": [
      "WARNING:twarc:rate limit exceeded: sleeping 836.0925481319427 secs\n"
     ]
    },
    {
     "name": "stdout",
     "output_type": "stream",
     "text": [
      "ending-covid19.com [1]\n",
      "chineseamericansfightcovid19.com [1]\n",
      "covid19tracker.io [2]\n",
      "cryovscovid19.com [2]\n",
      "hopecovidph.ga [1]\n",
      "covid19-arab.com [1]\n",
      "covid19indiaorg.com [3]\n",
      "covidsafepaths.org [7]\n",
      "covid19mtl.ca [3]\n",
      "coronafirws.cymru [10]\n",
      "covid19impactsurvey.org [188]\n",
      "indiastopcorona.in [1]\n",
      "usacovidmasks.com [6]\n",
      "covid19copingstudy.com [1]\n",
      "covidpreprints.com [36]\n"
     ]
    },
    {
     "name": "stderr",
     "output_type": "stream",
     "text": [
      "WARNING:twarc:rate limit exceeded: sleeping 829.9467861652374 secs\n",
      "ERROR:twarc:caught connection error ('Connection aborted.', ConnectionResetError(54, 'Connection reset by peer')) on 1 try\n"
     ]
    },
    {
     "name": "stdout",
     "output_type": "stream",
     "text": [
      "covid19colombia.app [20]\n",
      "covid19rsa.com [6]\n",
      "covid19retailpulselive.com [1]\n",
      "save-covid19.online [1]\n",
      "covidvirus.me [4]\n",
      "covid19engr.com [46]\n",
      "sitsi-covid19.com [2]\n",
      "corona45.org [1]\n",
      "insidecovid19.es [10]\n",
      "covid19vuk.org [3]\n"
     ]
    },
    {
     "name": "stderr",
     "output_type": "stream",
     "text": [
      "WARNING:twarc:rate limit exceeded: sleeping 840.2410681247711 secs\n",
      "ERROR:twarc:caught connection error ('Connection aborted.', ConnectionResetError(54, 'Connection reset by peer')) on 1 try\n"
     ]
    },
    {
     "name": "stdout",
     "output_type": "stream",
     "text": [
      "ayolawancovid19.id [10]\n",
      "covid19resources.in [1]\n",
      "mycoronaimpact.com [3]\n",
      "covid19misinformation.com [3]\n",
      "fastestcovidtest.com [1]\n",
      "bifmacovid19.org [1]\n",
      "covid-19-paspoort.nl [1]\n"
     ]
    },
    {
     "name": "stderr",
     "output_type": "stream",
     "text": [
      "WARNING:twarc:rate limit exceeded: sleeping 839.2999830245972 secs\n",
      "ERROR:twarc:caught connection error ('Connection aborted.', ConnectionResetError(54, 'Connection reset by peer')) on 1 try\n"
     ]
    },
    {
     "name": "stdout",
     "output_type": "stream",
     "text": [
      "pacificcountycovid19.com [3]\n",
      "ahefcovid19test.com [1]\n",
      "zcovid19.org [4]\n",
      "covid19usa.io [1]\n",
      "covidhelp.pk [2]\n",
      "finducovid19.com [15]\n",
      "covid19reviews.org [8]\n",
      "mycovidindia.com [3]\n",
      "aacoronavirus.org [12]\n",
      "covid19-dashboard.ch [1]\n",
      "covid19-tracker-ca.org [3]\n",
      "stopcovid19-sites.site [1]\n",
      "coronaaware.app [1]\n"
     ]
    },
    {
     "name": "stderr",
     "output_type": "stream",
     "text": [
      "WARNING:twarc:rate limit exceeded: sleeping 830.8631689548492 secs\n",
      "ERROR:twarc:caught connection error ('Connection aborted.', ConnectionResetError(54, 'Connection reset by peer')) on 1 try\n"
     ]
    },
    {
     "name": "stdout",
     "output_type": "stream",
     "text": [
      "rgvcovid19info.com [5]\n",
      "simptom-coronavirusa.ru [2]\n",
      "beritacovid19.com [1]\n",
      "laboratore-proti-koronaviru.cz [3]\n",
      "mbasfightcovid19.com [2]\n",
      "mycovidpin.com [2]\n",
      "salone-covid19.website [2]\n",
      "coronavs.life [7]\n",
      "corona-eindaemmen.de [1]\n",
      "covid19sydney.com [35]\n",
      "nmcovid19.org [7]\n",
      "holacoronavirus.com.mx [2]\n",
      "infocovid-entreprise95.fr [2]\n",
      "coronavirus-business-support.co.uk [1]\n",
      "argentinalibredecoronavirus.com [1]\n",
      "covid19jc.com [22]\n"
     ]
    },
    {
     "name": "stderr",
     "output_type": "stream",
     "text": [
      "WARNING:twarc:rate limit exceeded: sleeping 860.8197650909424 secs\n",
      "ERROR:twarc:caught connection error ('Connection aborted.', ConnectionResetError(54, 'Connection reset by peer')) on 1 try\n"
     ]
    },
    {
     "name": "stdout",
     "output_type": "stream",
     "text": [
      "covid19-updates.info [1]\n",
      "covid19cuisines.com [1]\n",
      "covid19abatement.ca [1]\n",
      "covidgo.in [1]\n",
      "coronavirus-tables.ru [10]\n",
      "covid19-pk.live [2]\n",
      "covidcrashcourse.com [1]\n",
      "wmasscovid.com [8]\n",
      "coronvirus.site [1]\n",
      "covid19stats.ph [156]\n",
      "hawaiifightscovid.org [10]\n",
      "hanzecoronameldpunt.nl [1]\n",
      "challengecovid.org [1]\n",
      "aev-covid19.org [2]\n",
      "coronavirussessions.org [1]\n",
      "champaigncountycovid19.org [3]\n",
      "covidtrackingus.org [12]\n",
      "covidtruth.site [4]\n"
     ]
    },
    {
     "name": "stderr",
     "output_type": "stream",
     "text": [
      "WARNING:twarc:rate limit exceeded: sleeping 873.676687002182 secs\n"
     ]
    },
    {
     "name": "stdout",
     "output_type": "stream",
     "text": [
      "hackcovid19.in [6]\n",
      "spiritualiteitvoorcoronatijd.org [17]\n",
      "covidmoney.info [4]\n",
      "covid19mv.live [4]\n",
      "australiacovid19.com [2]\n",
      "bloquercovid19.com [1]\n",
      "covid-19-act.jp [232]\n",
      "txcovid19erp.org [7]\n",
      "coronabonanza.com [2]\n"
     ]
    },
    {
     "name": "stderr",
     "output_type": "stream",
     "text": [
      "WARNING:twarc:rate limit exceeded: sleeping 870.8814430236816 secs\n"
     ]
    },
    {
     "name": "stdout",
     "output_type": "stream",
     "text": [
      "thecovidate.com [1]\n",
      "maparealdelcoronavirus.com [15]\n",
      "putnamcovidresponse.org [1]\n",
      "ocoronavirus.org [1]\n",
      "signupforthecovid19update.com [1]\n",
      "covidchange.com [1]\n",
      "covid19.co.it [1]\n",
      "covid19app.site [2]\n",
      "covidahaarhelp.in [5]\n",
      "us-covid-tracker.com [32]\n",
      "macovid19relieffund.org [68]\n",
      "kickoffcorona.com [8]\n"
     ]
    },
    {
     "name": "stderr",
     "output_type": "stream",
     "text": [
      "WARNING:twarc:rate limit exceeded: sleeping 872.3731498718262 secs\n"
     ]
    },
    {
     "name": "stdout",
     "output_type": "stream",
     "text": [
      "covid-alerts.com [1]\n",
      "yakimavscovid19.org [2]\n",
      "covid19medicin.dk [1]\n",
      "covid19jobs.io [6]\n",
      "covidhaber.com [1]\n",
      "covidtrends.in [2]\n",
      "coronavirus-heroes.org [1]\n",
      "covid19cd.com [19]\n",
      "coronaviruscommission.com [3]\n"
     ]
    },
    {
     "name": "stderr",
     "output_type": "stream",
     "text": [
      "WARNING:twarc:rate limit exceeded: sleeping 872.3191921710968 secs\n"
     ]
    },
    {
     "name": "stdout",
     "output_type": "stream",
     "text": [
      "covid19stories.in [1]\n",
      "coronavirusmap.me [11]\n"
     ]
    }
   ],
   "source": [
    "import json\n",
    "\n",
    "from urllib.parse import urlparse\n",
    "from collections import Counter\n",
    "\n",
    "# write the tweets as gzipped json data\n",
    "today = datetime.date.today().strftime('%Y-%m-%d')\n",
    "out = open('data/twitter/week-{}.jsonl'.format(today), 'w')\n",
    "\n",
    "counter = Counter()                \n",
    "for domain in latest_domains.domain:\n",
    "    domain = domain.lower()\n",
    "    \n",
    "    for tweet in t.search('url:{}'.format(domain)):\n",
    "        for url in tweet['entities']['urls']:\n",
    "            found_domain = urlparse(url['expanded_url']).netloc.lower()\n",
    "            if found_domain == domain or found_domain == 'www.' + domain:\n",
    "                json.dump(tweet, out)\n",
    "                counter[domain] += 1\n",
    "                \n",
    "    if counter[domain] > 0:\n",
    "        print('{} [{}]'.format(domain, counter[domain]))\n",
    "        json.dump(counter, open('data/twitter/week-{}-counts.json', 'w'), indent=2)\n"
   ]
  },
  {
   "cell_type": "markdown",
   "metadata": {},
   "source": [
    "## Analyze\n",
    "\n",
    "Let's fold our counts back into the dataset."
   ]
  },
  {
   "cell_type": "code",
   "execution_count": 108,
   "metadata": {},
   "outputs": [
    {
     "data": {
      "text/html": [
       "<div>\n",
       "<style scoped>\n",
       "    .dataframe tbody tr th:only-of-type {\n",
       "        vertical-align: middle;\n",
       "    }\n",
       "\n",
       "    .dataframe tbody tr th {\n",
       "        vertical-align: top;\n",
       "    }\n",
       "\n",
       "    .dataframe thead th {\n",
       "        text-align: right;\n",
       "    }\n",
       "</style>\n",
       "<table border=\"1\" class=\"dataframe\">\n",
       "  <thead>\n",
       "    <tr style=\"text-align: right;\">\n",
       "      <th></th>\n",
       "      <th>created</th>\n",
       "      <th>risk</th>\n",
       "      <th>tweets</th>\n",
       "    </tr>\n",
       "    <tr>\n",
       "      <th>domain</th>\n",
       "      <th></th>\n",
       "      <th></th>\n",
       "      <th></th>\n",
       "    </tr>\n",
       "  </thead>\n",
       "  <tbody>\n",
       "    <tr>\n",
       "      <th>covid19fashions.com</th>\n",
       "      <td>2020-04-04</td>\n",
       "      <td>99</td>\n",
       "      <td>NaN</td>\n",
       "    </tr>\n",
       "    <tr>\n",
       "      <th>coronaviruscardgame.com</th>\n",
       "      <td>2020-04-04</td>\n",
       "      <td>99</td>\n",
       "      <td>NaN</td>\n",
       "    </tr>\n",
       "    <tr>\n",
       "      <th>covidonline.me</th>\n",
       "      <td>2020-04-04</td>\n",
       "      <td>99</td>\n",
       "      <td>NaN</td>\n",
       "    </tr>\n",
       "    <tr>\n",
       "      <th>covid-19contained.com</th>\n",
       "      <td>2020-04-04</td>\n",
       "      <td>99</td>\n",
       "      <td>NaN</td>\n",
       "    </tr>\n",
       "    <tr>\n",
       "      <th>covidcrime-chicago.com</th>\n",
       "      <td>2020-04-04</td>\n",
       "      <td>99</td>\n",
       "      <td>6.0</td>\n",
       "    </tr>\n",
       "    <tr>\n",
       "      <th>...</th>\n",
       "      <td>...</td>\n",
       "      <td>...</td>\n",
       "      <td>...</td>\n",
       "    </tr>\n",
       "    <tr>\n",
       "      <th>wuhanbj.cn</th>\n",
       "      <td>2020-01-23</td>\n",
       "      <td>70</td>\n",
       "      <td>NaN</td>\n",
       "    </tr>\n",
       "    <tr>\n",
       "      <th>wuhanpneumonia.org</th>\n",
       "      <td>2020-01-19</td>\n",
       "      <td>70</td>\n",
       "      <td>NaN</td>\n",
       "    </tr>\n",
       "    <tr>\n",
       "      <th>wuhanfengtai.com</th>\n",
       "      <td>2020-01-13</td>\n",
       "      <td>70</td>\n",
       "      <td>NaN</td>\n",
       "    </tr>\n",
       "    <tr>\n",
       "      <th>ecovida5dmalaga.com</th>\n",
       "      <td>2020-01-07</td>\n",
       "      <td>70</td>\n",
       "      <td>NaN</td>\n",
       "    </tr>\n",
       "    <tr>\n",
       "      <th>coronationbitter.co.uk</th>\n",
       "      <td>2020-01-02</td>\n",
       "      <td>70</td>\n",
       "      <td>NaN</td>\n",
       "    </tr>\n",
       "  </tbody>\n",
       "</table>\n",
       "<p>116711 rows × 3 columns</p>\n",
       "</div>"
      ],
      "text/plain": [
       "                           created  risk  tweets\n",
       "domain                                          \n",
       "covid19fashions.com     2020-04-04    99     NaN\n",
       "coronaviruscardgame.com 2020-04-04    99     NaN\n",
       "covidonline.me          2020-04-04    99     NaN\n",
       "covid-19contained.com   2020-04-04    99     NaN\n",
       "covidcrime-chicago.com  2020-04-04    99     6.0\n",
       "...                            ...   ...     ...\n",
       "wuhanbj.cn              2020-01-23    70     NaN\n",
       "wuhanpneumonia.org      2020-01-19    70     NaN\n",
       "wuhanfengtai.com        2020-01-13    70     NaN\n",
       "ecovida5dmalaga.com     2020-01-07    70     NaN\n",
       "coronationbitter.co.uk  2020-01-02    70     NaN\n",
       "\n",
       "[116711 rows x 3 columns]"
      ]
     },
     "execution_count": 108,
     "metadata": {},
     "output_type": "execute_result"
    }
   ],
   "source": [
    "tweets = pandas.Series(counter)\n",
    "df = df.set_index('domain')\n",
    "df['tweets'] = tweets\n",
    "df"
   ]
  },
  {
   "cell_type": "markdown",
   "metadata": {},
   "source": [
    "We can replace those NaN values with zero:"
   ]
  },
  {
   "cell_type": "code",
   "execution_count": 109,
   "metadata": {},
   "outputs": [
    {
     "data": {
      "text/html": [
       "<div>\n",
       "<style scoped>\n",
       "    .dataframe tbody tr th:only-of-type {\n",
       "        vertical-align: middle;\n",
       "    }\n",
       "\n",
       "    .dataframe tbody tr th {\n",
       "        vertical-align: top;\n",
       "    }\n",
       "\n",
       "    .dataframe thead th {\n",
       "        text-align: right;\n",
       "    }\n",
       "</style>\n",
       "<table border=\"1\" class=\"dataframe\">\n",
       "  <thead>\n",
       "    <tr style=\"text-align: right;\">\n",
       "      <th></th>\n",
       "      <th>created</th>\n",
       "      <th>risk</th>\n",
       "      <th>tweets</th>\n",
       "    </tr>\n",
       "    <tr>\n",
       "      <th>domain</th>\n",
       "      <th></th>\n",
       "      <th></th>\n",
       "      <th></th>\n",
       "    </tr>\n",
       "  </thead>\n",
       "  <tbody>\n",
       "    <tr>\n",
       "      <th>covid19fashions.com</th>\n",
       "      <td>2020-04-04</td>\n",
       "      <td>99</td>\n",
       "      <td>0.0</td>\n",
       "    </tr>\n",
       "    <tr>\n",
       "      <th>coronaviruscardgame.com</th>\n",
       "      <td>2020-04-04</td>\n",
       "      <td>99</td>\n",
       "      <td>0.0</td>\n",
       "    </tr>\n",
       "    <tr>\n",
       "      <th>covidonline.me</th>\n",
       "      <td>2020-04-04</td>\n",
       "      <td>99</td>\n",
       "      <td>0.0</td>\n",
       "    </tr>\n",
       "    <tr>\n",
       "      <th>covid-19contained.com</th>\n",
       "      <td>2020-04-04</td>\n",
       "      <td>99</td>\n",
       "      <td>0.0</td>\n",
       "    </tr>\n",
       "    <tr>\n",
       "      <th>covidcrime-chicago.com</th>\n",
       "      <td>2020-04-04</td>\n",
       "      <td>99</td>\n",
       "      <td>6.0</td>\n",
       "    </tr>\n",
       "    <tr>\n",
       "      <th>...</th>\n",
       "      <td>...</td>\n",
       "      <td>...</td>\n",
       "      <td>...</td>\n",
       "    </tr>\n",
       "    <tr>\n",
       "      <th>wuhanbj.cn</th>\n",
       "      <td>2020-01-23</td>\n",
       "      <td>70</td>\n",
       "      <td>0.0</td>\n",
       "    </tr>\n",
       "    <tr>\n",
       "      <th>wuhanpneumonia.org</th>\n",
       "      <td>2020-01-19</td>\n",
       "      <td>70</td>\n",
       "      <td>0.0</td>\n",
       "    </tr>\n",
       "    <tr>\n",
       "      <th>wuhanfengtai.com</th>\n",
       "      <td>2020-01-13</td>\n",
       "      <td>70</td>\n",
       "      <td>0.0</td>\n",
       "    </tr>\n",
       "    <tr>\n",
       "      <th>ecovida5dmalaga.com</th>\n",
       "      <td>2020-01-07</td>\n",
       "      <td>70</td>\n",
       "      <td>0.0</td>\n",
       "    </tr>\n",
       "    <tr>\n",
       "      <th>coronationbitter.co.uk</th>\n",
       "      <td>2020-01-02</td>\n",
       "      <td>70</td>\n",
       "      <td>0.0</td>\n",
       "    </tr>\n",
       "  </tbody>\n",
       "</table>\n",
       "<p>116711 rows × 3 columns</p>\n",
       "</div>"
      ],
      "text/plain": [
       "                           created  risk  tweets\n",
       "domain                                          \n",
       "covid19fashions.com     2020-04-04    99     0.0\n",
       "coronaviruscardgame.com 2020-04-04    99     0.0\n",
       "covidonline.me          2020-04-04    99     0.0\n",
       "covid-19contained.com   2020-04-04    99     0.0\n",
       "covidcrime-chicago.com  2020-04-04    99     6.0\n",
       "...                            ...   ...     ...\n",
       "wuhanbj.cn              2020-01-23    70     0.0\n",
       "wuhanpneumonia.org      2020-01-19    70     0.0\n",
       "wuhanfengtai.com        2020-01-13    70     0.0\n",
       "ecovida5dmalaga.com     2020-01-07    70     0.0\n",
       "coronationbitter.co.uk  2020-01-02    70     0.0\n",
       "\n",
       "[116711 rows x 3 columns]"
      ]
     },
     "execution_count": 109,
     "metadata": {},
     "output_type": "execute_result"
    }
   ],
   "source": [
    "df['tweets'] = df['tweets'].fillna(int(0))\n",
    "df"
   ]
  },
  {
   "cell_type": "markdown",
   "metadata": {},
   "source": [
    "We can sort the domains by the highest number of tweets:"
   ]
  },
  {
   "cell_type": "code",
   "execution_count": 110,
   "metadata": {},
   "outputs": [
    {
     "data": {
      "text/html": [
       "<div>\n",
       "<style scoped>\n",
       "    .dataframe tbody tr th:only-of-type {\n",
       "        vertical-align: middle;\n",
       "    }\n",
       "\n",
       "    .dataframe tbody tr th {\n",
       "        vertical-align: top;\n",
       "    }\n",
       "\n",
       "    .dataframe thead th {\n",
       "        text-align: right;\n",
       "    }\n",
       "</style>\n",
       "<table border=\"1\" class=\"dataframe\">\n",
       "  <thead>\n",
       "    <tr style=\"text-align: right;\">\n",
       "      <th></th>\n",
       "      <th>created</th>\n",
       "      <th>risk</th>\n",
       "      <th>tweets</th>\n",
       "    </tr>\n",
       "    <tr>\n",
       "      <th>domain</th>\n",
       "      <th></th>\n",
       "      <th></th>\n",
       "      <th></th>\n",
       "    </tr>\n",
       "  </thead>\n",
       "  <tbody>\n",
       "    <tr>\n",
       "      <th>covid-19-act.jp</th>\n",
       "      <td>2020-03-31</td>\n",
       "      <td>99</td>\n",
       "      <td>232.0</td>\n",
       "    </tr>\n",
       "    <tr>\n",
       "      <th>covid19impactsurvey.org</th>\n",
       "      <td>2020-04-01</td>\n",
       "      <td>99</td>\n",
       "      <td>188.0</td>\n",
       "    </tr>\n",
       "    <tr>\n",
       "      <th>covid19stats.ph</th>\n",
       "      <td>2020-03-31</td>\n",
       "      <td>99</td>\n",
       "      <td>156.0</td>\n",
       "    </tr>\n",
       "    <tr>\n",
       "      <th>macovid19relieffund.org</th>\n",
       "      <td>2020-03-31</td>\n",
       "      <td>99</td>\n",
       "      <td>68.0</td>\n",
       "    </tr>\n",
       "    <tr>\n",
       "      <th>covid19engr.com</th>\n",
       "      <td>2020-04-01</td>\n",
       "      <td>99</td>\n",
       "      <td>46.0</td>\n",
       "    </tr>\n",
       "    <tr>\n",
       "      <th>coronavirus-website.ru</th>\n",
       "      <td>2020-04-03</td>\n",
       "      <td>99</td>\n",
       "      <td>45.0</td>\n",
       "    </tr>\n",
       "    <tr>\n",
       "      <th>covid19rehber.com</th>\n",
       "      <td>2020-04-02</td>\n",
       "      <td>99</td>\n",
       "      <td>39.0</td>\n",
       "    </tr>\n",
       "    <tr>\n",
       "      <th>covidpreprints.com</th>\n",
       "      <td>2020-04-01</td>\n",
       "      <td>99</td>\n",
       "      <td>36.0</td>\n",
       "    </tr>\n",
       "    <tr>\n",
       "      <th>covid19sydney.com</th>\n",
       "      <td>2020-04-01</td>\n",
       "      <td>99</td>\n",
       "      <td>35.0</td>\n",
       "    </tr>\n",
       "    <tr>\n",
       "      <th>us-covid-tracker.com</th>\n",
       "      <td>2020-03-31</td>\n",
       "      <td>99</td>\n",
       "      <td>32.0</td>\n",
       "    </tr>\n",
       "    <tr>\n",
       "      <th>covid19rehberi.com</th>\n",
       "      <td>2020-04-02</td>\n",
       "      <td>99</td>\n",
       "      <td>28.0</td>\n",
       "    </tr>\n",
       "    <tr>\n",
       "      <th>covid19drc.com</th>\n",
       "      <td>2020-04-03</td>\n",
       "      <td>99</td>\n",
       "      <td>26.0</td>\n",
       "    </tr>\n",
       "    <tr>\n",
       "      <th>covid19sci.org</th>\n",
       "      <td>2020-04-02</td>\n",
       "      <td>99</td>\n",
       "      <td>22.0</td>\n",
       "    </tr>\n",
       "    <tr>\n",
       "      <th>covid19jc.com</th>\n",
       "      <td>2020-03-31</td>\n",
       "      <td>99</td>\n",
       "      <td>22.0</td>\n",
       "    </tr>\n",
       "    <tr>\n",
       "      <th>covidaz.help</th>\n",
       "      <td>2020-04-03</td>\n",
       "      <td>99</td>\n",
       "      <td>20.0</td>\n",
       "    </tr>\n",
       "    <tr>\n",
       "      <th>covid19colombia.app</th>\n",
       "      <td>2020-04-01</td>\n",
       "      <td>99</td>\n",
       "      <td>20.0</td>\n",
       "    </tr>\n",
       "    <tr>\n",
       "      <th>covid19cd.com</th>\n",
       "      <td>2020-03-31</td>\n",
       "      <td>99</td>\n",
       "      <td>19.0</td>\n",
       "    </tr>\n",
       "    <tr>\n",
       "      <th>spiritualiteitvoorcoronatijd.org</th>\n",
       "      <td>2020-03-31</td>\n",
       "      <td>99</td>\n",
       "      <td>17.0</td>\n",
       "    </tr>\n",
       "    <tr>\n",
       "      <th>maparealdelcoronavirus.com</th>\n",
       "      <td>2020-03-31</td>\n",
       "      <td>99</td>\n",
       "      <td>15.0</td>\n",
       "    </tr>\n",
       "    <tr>\n",
       "      <th>finducovid19.com</th>\n",
       "      <td>2020-04-01</td>\n",
       "      <td>99</td>\n",
       "      <td>15.0</td>\n",
       "    </tr>\n",
       "    <tr>\n",
       "      <th>covidtracker.world</th>\n",
       "      <td>2020-04-02</td>\n",
       "      <td>99</td>\n",
       "      <td>14.0</td>\n",
       "    </tr>\n",
       "    <tr>\n",
       "      <th>meditateagainstcovid19.org</th>\n",
       "      <td>2020-04-03</td>\n",
       "      <td>99</td>\n",
       "      <td>12.0</td>\n",
       "    </tr>\n",
       "    <tr>\n",
       "      <th>covidtrackingus.org</th>\n",
       "      <td>2020-03-31</td>\n",
       "      <td>99</td>\n",
       "      <td>12.0</td>\n",
       "    </tr>\n",
       "    <tr>\n",
       "      <th>aacoronavirus.org</th>\n",
       "      <td>2020-04-01</td>\n",
       "      <td>99</td>\n",
       "      <td>12.0</td>\n",
       "    </tr>\n",
       "    <tr>\n",
       "      <th>coronavirusmap.me</th>\n",
       "      <td>2020-03-31</td>\n",
       "      <td>99</td>\n",
       "      <td>11.0</td>\n",
       "    </tr>\n",
       "  </tbody>\n",
       "</table>\n",
       "</div>"
      ],
      "text/plain": [
       "                                    created  risk  tweets\n",
       "domain                                                   \n",
       "covid-19-act.jp                  2020-03-31    99   232.0\n",
       "covid19impactsurvey.org          2020-04-01    99   188.0\n",
       "covid19stats.ph                  2020-03-31    99   156.0\n",
       "macovid19relieffund.org          2020-03-31    99    68.0\n",
       "covid19engr.com                  2020-04-01    99    46.0\n",
       "coronavirus-website.ru           2020-04-03    99    45.0\n",
       "covid19rehber.com                2020-04-02    99    39.0\n",
       "covidpreprints.com               2020-04-01    99    36.0\n",
       "covid19sydney.com                2020-04-01    99    35.0\n",
       "us-covid-tracker.com             2020-03-31    99    32.0\n",
       "covid19rehberi.com               2020-04-02    99    28.0\n",
       "covid19drc.com                   2020-04-03    99    26.0\n",
       "covid19sci.org                   2020-04-02    99    22.0\n",
       "covid19jc.com                    2020-03-31    99    22.0\n",
       "covidaz.help                     2020-04-03    99    20.0\n",
       "covid19colombia.app              2020-04-01    99    20.0\n",
       "covid19cd.com                    2020-03-31    99    19.0\n",
       "spiritualiteitvoorcoronatijd.org 2020-03-31    99    17.0\n",
       "maparealdelcoronavirus.com       2020-03-31    99    15.0\n",
       "finducovid19.com                 2020-04-01    99    15.0\n",
       "covidtracker.world               2020-04-02    99    14.0\n",
       "meditateagainstcovid19.org       2020-04-03    99    12.0\n",
       "covidtrackingus.org              2020-03-31    99    12.0\n",
       "aacoronavirus.org                2020-04-01    99    12.0\n",
       "coronavirusmap.me                2020-03-31    99    11.0"
      ]
     },
     "execution_count": 110,
     "metadata": {},
     "output_type": "execute_result"
    }
   ],
   "source": [
    "df = df.sort_values('tweets', ascending=False)\n",
    "df.head(25)"
   ]
  },
  {
   "cell_type": "markdown",
   "metadata": {},
   "source": [
    "So that's somewhat interesting, but we don't see tons of sharing going on. What if we look at the Twitter data itself to get a sense of the number of retweets for some of these."
   ]
  },
  {
   "cell_type": "code",
   "execution_count": null,
   "metadata": {},
   "outputs": [],
   "source": []
  }
 ],
 "metadata": {
  "kernelspec": {
   "display_name": "Python 3",
   "language": "python",
   "name": "python3"
  },
  "language_info": {
   "codemirror_mode": {
    "name": "ipython",
    "version": 3
   },
   "file_extension": ".py",
   "mimetype": "text/x-python",
   "name": "python",
   "nbconvert_exporter": "python",
   "pygments_lexer": "ipython3",
   "version": "3.7.6"
  }
 },
 "nbformat": 4,
 "nbformat_minor": 4
}
