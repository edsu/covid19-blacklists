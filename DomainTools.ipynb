{
 "cells": [
  {
   "cell_type": "markdown",
   "metadata": {},
   "source": [
    "# DomainTools\n",
    "\n",
    "The DomainTools service is [releasing](https://www.domaintools.com/resources/blog/free-covid-19-threat-list-domain-risk-assessments-for-coronavirus-threats) a set of COVID-19 related domains that have been flagged as \"high risk\":\n",
    "\n",
    "> Drawing upon data points from over 330 million current Internet domains, DomainTools Risk Score predicts how likely a domain is to be malicious, often before it is weaponized. The score comes from two distinct algorithms: Proximity and Threat Profile. Proximity evaluates the likelihood a domain may be part of an attack campaign by analyzing how closely connected it is to other known-bad domains. Threat Profile leverages machine learning to model how closely the domain’s intrinsic properties resemble those of others used for spam, phishing, or malware. The strongest signal from either of those algorithms becomes the combined Domain Risk Score.\n",
    "\n",
    "The data is released daily at https://covid-19-threat-list.domaintools.com/. The `utils/domaintools.py` script can be run from cron to collect the files on a schedule. They are also added here to this repository in `data/domaintools/`. \n",
    "\n",
    "Despite the `.csv` file extension each file is a gzipped tab separated file that has three columns:\n",
    "\n",
    "* domain name\n",
    "* create date\n",
    "* risk score\n",
    "\n",
    "The columns are not labeled in the data so we will need to add them when we read in the data."
   ]
  },
  {
   "cell_type": "code",
   "execution_count": 2,
   "metadata": {},
   "outputs": [
    {
     "data": {
      "text/html": [
       "<div>\n",
       "<style scoped>\n",
       "    .dataframe tbody tr th:only-of-type {\n",
       "        vertical-align: middle;\n",
       "    }\n",
       "\n",
       "    .dataframe tbody tr th {\n",
       "        vertical-align: top;\n",
       "    }\n",
       "\n",
       "    .dataframe thead th {\n",
       "        text-align: right;\n",
       "    }\n",
       "</style>\n",
       "<table border=\"1\" class=\"dataframe\">\n",
       "  <thead>\n",
       "    <tr style=\"text-align: right;\">\n",
       "      <th></th>\n",
       "      <th>domain</th>\n",
       "      <th>created</th>\n",
       "      <th>risk</th>\n",
       "    </tr>\n",
       "  </thead>\n",
       "  <tbody>\n",
       "    <tr>\n",
       "      <th>0</th>\n",
       "      <td>covid19fashions.com</td>\n",
       "      <td>2020-04-04</td>\n",
       "      <td>99</td>\n",
       "    </tr>\n",
       "    <tr>\n",
       "      <th>1</th>\n",
       "      <td>coronaviruscardgame.com</td>\n",
       "      <td>2020-04-04</td>\n",
       "      <td>99</td>\n",
       "    </tr>\n",
       "    <tr>\n",
       "      <th>2</th>\n",
       "      <td>covidonline.me</td>\n",
       "      <td>2020-04-04</td>\n",
       "      <td>99</td>\n",
       "    </tr>\n",
       "    <tr>\n",
       "      <th>3</th>\n",
       "      <td>covid-19contained.com</td>\n",
       "      <td>2020-04-04</td>\n",
       "      <td>99</td>\n",
       "    </tr>\n",
       "    <tr>\n",
       "      <th>4</th>\n",
       "      <td>covidcrime-chicago.com</td>\n",
       "      <td>2020-04-04</td>\n",
       "      <td>99</td>\n",
       "    </tr>\n",
       "  </tbody>\n",
       "</table>\n",
       "</div>"
      ],
      "text/plain": [
       "                    domain     created  risk\n",
       "0      covid19fashions.com  2020-04-04    99\n",
       "1  coronaviruscardgame.com  2020-04-04    99\n",
       "2           covidonline.me  2020-04-04    99\n",
       "3    covid-19contained.com  2020-04-04    99\n",
       "4   covidcrime-chicago.com  2020-04-04    99"
      ]
     },
     "execution_count": 2,
     "metadata": {},
     "output_type": "execute_result"
    }
   ],
   "source": [
    "import pandas\n",
    "\n",
    "df = pandas.read_csv('data/domaintools/2020-04-05.csv.gz', sep='\\t', names=['domain', 'created', 'risk'])\n",
    "df.head()"
   ]
  },
  {
   "cell_type": "markdown",
   "metadata": {},
   "source": [
    "We know from their description of the dataset that it only includes domains with a risk score of greater than or equal to 70. Here is a general statistical picture of the domains."
   ]
  },
  {
   "cell_type": "code",
   "execution_count": 3,
   "metadata": {},
   "outputs": [
    {
     "data": {
      "text/html": [
       "<div>\n",
       "<style scoped>\n",
       "    .dataframe tbody tr th:only-of-type {\n",
       "        vertical-align: middle;\n",
       "    }\n",
       "\n",
       "    .dataframe tbody tr th {\n",
       "        vertical-align: top;\n",
       "    }\n",
       "\n",
       "    .dataframe thead th {\n",
       "        text-align: right;\n",
       "    }\n",
       "</style>\n",
       "<table border=\"1\" class=\"dataframe\">\n",
       "  <thead>\n",
       "    <tr style=\"text-align: right;\">\n",
       "      <th></th>\n",
       "      <th>risk</th>\n",
       "    </tr>\n",
       "  </thead>\n",
       "  <tbody>\n",
       "    <tr>\n",
       "      <th>count</th>\n",
       "      <td>116711.000000</td>\n",
       "    </tr>\n",
       "    <tr>\n",
       "      <th>mean</th>\n",
       "      <td>97.580022</td>\n",
       "    </tr>\n",
       "    <tr>\n",
       "      <th>std</th>\n",
       "      <td>3.957183</td>\n",
       "    </tr>\n",
       "    <tr>\n",
       "      <th>min</th>\n",
       "      <td>70.000000</td>\n",
       "    </tr>\n",
       "    <tr>\n",
       "      <th>25%</th>\n",
       "      <td>98.000000</td>\n",
       "    </tr>\n",
       "    <tr>\n",
       "      <th>50%</th>\n",
       "      <td>99.000000</td>\n",
       "    </tr>\n",
       "    <tr>\n",
       "      <th>75%</th>\n",
       "      <td>99.000000</td>\n",
       "    </tr>\n",
       "    <tr>\n",
       "      <th>max</th>\n",
       "      <td>99.000000</td>\n",
       "    </tr>\n",
       "  </tbody>\n",
       "</table>\n",
       "</div>"
      ],
      "text/plain": [
       "                risk\n",
       "count  116711.000000\n",
       "mean       97.580022\n",
       "std         3.957183\n",
       "min        70.000000\n",
       "25%        98.000000\n",
       "50%        99.000000\n",
       "75%        99.000000\n",
       "max        99.000000"
      ]
     },
     "execution_count": 3,
     "metadata": {},
     "output_type": "execute_result"
    }
   ],
   "source": [
    "df.describe()"
   ]
  },
  {
   "cell_type": "markdown",
   "metadata": {},
   "source": [
    "We can see the average risk score is 97.5 and the percentile measures that the majority of these domains have been ranked 99.0 or higher.\n",
    "\n",
    "We can also take a look at the create dates:"
   ]
  },
  {
   "cell_type": "code",
   "execution_count": 24,
   "metadata": {},
   "outputs": [
    {
     "data": {
      "text/html": [
       "\n",
       "<div id=\"altair-viz-9779b1559c6b45b787d48fc34d22644c\"></div>\n",
       "<script type=\"text/javascript\">\n",
       "  (function(spec, embedOpt){\n",
       "    let outputDiv = document.currentScript.previousElementSibling;\n",
       "    if (outputDiv.id !== \"altair-viz-9779b1559c6b45b787d48fc34d22644c\") {\n",
       "      outputDiv = document.getElementById(\"altair-viz-9779b1559c6b45b787d48fc34d22644c\");\n",
       "    }\n",
       "    const paths = {\n",
       "      \"vega\": \"https://cdn.jsdelivr.net/npm//vega@5?noext\",\n",
       "      \"vega-lib\": \"https://cdn.jsdelivr.net/npm//vega-lib?noext\",\n",
       "      \"vega-lite\": \"https://cdn.jsdelivr.net/npm//vega-lite@4.8.1?noext\",\n",
       "      \"vega-embed\": \"https://cdn.jsdelivr.net/npm//vega-embed@6?noext\",\n",
       "    };\n",
       "\n",
       "    function loadScript(lib) {\n",
       "      return new Promise(function(resolve, reject) {\n",
       "        var s = document.createElement('script');\n",
       "        s.src = paths[lib];\n",
       "        s.async = true;\n",
       "        s.onload = () => resolve(paths[lib]);\n",
       "        s.onerror = () => reject(`Error loading script: ${paths[lib]}`);\n",
       "        document.getElementsByTagName(\"head\")[0].appendChild(s);\n",
       "      });\n",
       "    }\n",
       "\n",
       "    function showError(err) {\n",
       "      outputDiv.innerHTML = `<div class=\"error\" style=\"color:red;\">${err}</div>`;\n",
       "      throw err;\n",
       "    }\n",
       "\n",
       "    function displayChart(vegaEmbed) {\n",
       "      vegaEmbed(outputDiv, spec, embedOpt)\n",
       "        .catch(err => showError(`Javascript Error: ${err.message}<br>This usually means there's a typo in your chart specification. See the javascript console for the full traceback.`));\n",
       "    }\n",
       "\n",
       "    if(typeof define === \"function\" && define.amd) {\n",
       "      requirejs.config({paths});\n",
       "      require([\"vega-embed\"], displayChart, err => showError(`Error loading script: ${err.message}`));\n",
       "    } else if (typeof vegaEmbed === \"function\") {\n",
       "      displayChart(vegaEmbed);\n",
       "    } else {\n",
       "      loadScript(\"vega\")\n",
       "        .then(() => loadScript(\"vega-lite\"))\n",
       "        .then(() => loadScript(\"vega-embed\"))\n",
       "        .catch(showError)\n",
       "        .then(() => displayChart(vegaEmbed));\n",
       "    }\n",
       "  })({\"config\": {\"view\": {\"continuousWidth\": 400, \"continuousHeight\": 300}}, \"data\": {\"name\": \"data-27ca6ac89e404ed86c9ce1e54fe4a8c3\"}, \"mark\": \"bar\", \"encoding\": {\"x\": {\"type\": \"temporal\", \"field\": \"created\", \"title\": \"Time (Days)\"}, \"y\": {\"type\": \"quantitative\", \"field\": \"count\", \"title\": \"Domains\"}}, \"title\": \"Domains Created/Tracked per Day\", \"width\": 700, \"$schema\": \"https://vega.github.io/schema/vega-lite/v4.8.1.json\", \"datasets\": {\"data-27ca6ac89e404ed86c9ce1e54fe4a8c3\": [{\"created\": \"2020-03-20\", \"count\": 5182}, {\"created\": \"2020-03-18\", \"count\": 5157}, {\"created\": \"2020-03-19\", \"count\": 5004}, {\"created\": \"2020-03-16\", \"count\": 4950}, {\"created\": \"2020-03-17\", \"count\": 4934}, {\"created\": \"2020-03-21\", \"count\": 4684}, {\"created\": \"2020-03-22\", \"count\": 4591}, {\"created\": \"2020-03-13\", \"count\": 4416}, {\"created\": \"2020-03-23\", \"count\": 4348}, {\"created\": \"2020-03-24\", \"count\": 4094}, {\"created\": \"2020-03-15\", \"count\": 4040}, {\"created\": \"2020-03-14\", \"count\": 4019}, {\"created\": \"2020-03-25\", \"count\": 3959}, {\"created\": \"2020-03-12\", \"count\": 3902}, {\"created\": \"2020-03-27\", \"count\": 3676}, {\"created\": \"2020-03-26\", \"count\": 3644}, {\"created\": \"2020-03-30\", \"count\": 3262}, {\"created\": \"2020-03-28\", \"count\": 3256}, {\"created\": \"2020-04-01\", \"count\": 2874}, {\"created\": \"2020-03-29\", \"count\": 2847}, {\"created\": \"2020-04-02\", \"count\": 2801}, {\"created\": \"2020-03-31\", \"count\": 2725}, {\"created\": \"2020-03-11\", \"count\": 2075}, {\"created\": \"2020-04-03\", \"count\": 1923}, {\"created\": \"2020-03-10\", \"count\": 1569}, {\"created\": \"2020-03-09\", \"count\": 1444}, {\"created\": \"2020-03-06\", \"count\": 1320}, {\"created\": \"2020-03-04\", \"count\": 1233}, {\"created\": \"2020-03-07\", \"count\": 1188}, {\"created\": \"2020-02-28\", \"count\": 1111}, {\"created\": \"2020-02-27\", \"count\": 1097}, {\"created\": \"2020-03-05\", \"count\": 1053}, {\"created\": \"2020-02-11\", \"count\": 957}, {\"created\": \"2020-03-03\", \"count\": 947}, {\"created\": \"2020-02-26\", \"count\": 941}, {\"created\": \"2020-03-02\", \"count\": 926}, {\"created\": \"2020-02-29\", \"count\": 910}, {\"created\": \"2020-03-01\", \"count\": 823}, {\"created\": \"2020-03-08\", \"count\": 757}, {\"created\": \"2020-02-12\", \"count\": 628}, {\"created\": \"2020-02-25\", \"count\": 580}, {\"created\": \"2020-02-24\", \"count\": 413}, {\"created\": \"2020-01-31\", \"count\": 338}, {\"created\": \"2020-01-28\", \"count\": 314}, {\"created\": \"2020-01-29\", \"count\": 311}, {\"created\": \"2020-02-23\", \"count\": 303}, {\"created\": \"2020-01-30\", \"count\": 280}, {\"created\": \"2020-02-03\", \"count\": 273}, {\"created\": \"2020-01-27\", \"count\": 272}, {\"created\": \"2020-01-26\", \"count\": 260}, {\"created\": \"2020-02-13\", \"count\": 232}, {\"created\": \"2020-01-25\", \"count\": 226}, {\"created\": \"2020-02-14\", \"count\": 225}, {\"created\": \"2020-02-01\", \"count\": 223}, {\"created\": \"2020-02-02\", \"count\": 218}, {\"created\": \"2020-01-24\", \"count\": 206}, {\"created\": \"2020-02-22\", \"count\": 199}, {\"created\": \"2020-01-23\", \"count\": 163}, {\"created\": \"2020-02-16\", \"count\": 141}, {\"created\": \"2020-02-06\", \"count\": 140}, {\"created\": \"2020-02-07\", \"count\": 136}, {\"created\": \"2020-02-05\", \"count\": 134}, {\"created\": \"2020-02-21\", \"count\": 130}, {\"created\": \"2020-02-10\", \"count\": 128}, {\"created\": \"2020-02-17\", \"count\": 120}, {\"created\": \"2020-02-18\", \"count\": 119}, {\"created\": \"2020-02-08\", \"count\": 117}, {\"created\": \"2020-02-04\", \"count\": 115}, {\"created\": \"2020-02-20\", \"count\": 115}, {\"created\": \"2020-01-21\", \"count\": 113}, {\"created\": \"2020-01-22\", \"count\": 111}, {\"created\": \"2020-02-09\", \"count\": 111}, {\"created\": \"2020-02-19\", \"count\": 106}, {\"created\": \"2020-02-15\", \"count\": 101}, {\"created\": \"2020-01-07\", \"count\": 47}, {\"created\": \"2020-01-09\", \"count\": 37}, {\"created\": \"2020-01-19\", \"count\": 36}, {\"created\": \"2020-04-04\", \"count\": 36}, {\"created\": \"2020-01-20\", \"count\": 32}, {\"created\": \"2020-01-18\", \"count\": 27}, {\"created\": \"2020-01-03\", \"count\": 26}, {\"created\": \"2020-01-14\", \"count\": 26}, {\"created\": \"2020-01-15\", \"count\": 24}, {\"created\": \"2020-01-08\", \"count\": 23}, {\"created\": \"2020-01-17\", \"count\": 20}, {\"created\": \"2020-01-01\", \"count\": 17}, {\"created\": \"2020-01-11\", \"count\": 17}, {\"created\": \"2020-01-10\", \"count\": 17}, {\"created\": \"2020-01-06\", \"count\": 15}, {\"created\": \"2020-01-02\", \"count\": 15}, {\"created\": \"2020-01-13\", \"count\": 14}, {\"created\": \"2020-01-16\", \"count\": 13}, {\"created\": \"2020-01-04\", \"count\": 13}, {\"created\": \"2020-01-12\", \"count\": 8}, {\"created\": \"2020-01-05\", \"count\": 8}]}}, {\"mode\": \"vega-lite\"});\n",
       "</script>"
      ],
      "text/plain": [
       "alt.Chart(...)"
      ]
     },
     "execution_count": 24,
     "metadata": {},
     "output_type": "execute_result"
    }
   ],
   "source": [
    "import altair as alt\n",
    "\n",
    "counts = df.created.value_counts().reset_index()\n",
    "counts.columns = ['created', 'count']\n",
    "\n",
    "alt.Chart(counts, width=700, title=\"Domains Created/Tracked per Day\").mark_bar().encode(\n",
    "    alt.X(\"created:T\", title=\"Time (Days)\"),\n",
    "    alt.Y('count:Q', title=\"Domains\")\n",
    ")"
   ]
  },
  {
   "cell_type": "code",
   "execution_count": null,
   "metadata": {},
   "outputs": [],
   "source": []
  }
 ],
 "metadata": {
  "kernelspec": {
   "display_name": "Python 3",
   "language": "python",
   "name": "python3"
  },
  "language_info": {
   "codemirror_mode": {
    "name": "ipython",
    "version": 3
   },
   "file_extension": ".py",
   "mimetype": "text/x-python",
   "name": "python",
   "nbconvert_exporter": "python",
   "pygments_lexer": "ipython3",
   "version": "3.7.6"
  }
 },
 "nbformat": 4,
 "nbformat_minor": 2
}
